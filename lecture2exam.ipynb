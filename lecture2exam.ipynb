{
 "cells": [
  {
   "cell_type": "code",
   "execution_count": 1,
   "metadata": {
    "ExecuteTime": {
     "end_time": "2024-06-19T10:44:38.216630Z",
     "start_time": "2024-06-19T10:44:35.520184Z"
    }
   },
   "outputs": [
    {
     "data": {
      "text/plain": [
       "False"
      ]
     },
     "execution_count": 1,
     "metadata": {},
     "output_type": "execute_result"
    }
   ],
   "source": [
    "from dataset import Lecture, Dataset, QuestionsGenerator\n",
    "from dotenv import load_dotenv\n",
    "from eval import Evaluator\n",
    "import os\n",
    "\n",
    "load_dotenv()"
   ]
  },
  {
   "cell_type": "code",
   "execution_count": null,
   "metadata": {},
   "outputs": [],
   "source": [
    "# define the dependencies as follows and pass them to the Dataset object\n",
    "dependencies_map = {\n",
    "    \"1_BytePairEncoding.py\": [1],  # exercise 1 depends on lecture 1\n",
    "    \"2_N-Grams.ip.py\": [2],  # exercise 2 depends on lecture 2\n",
    "    \"3_SimpleEmbeddings.py\": [3, 4],  # exercise 3 depends on lecture 3 and 4\n",
    "    \"4_VectorSimilarity.py\": [5, 6],  # exercise 4 depends on lecture 5 and 6\n",
    "    \"5_Neural_Language_Model.py\": [7],  # exercise 5 depends on lecture 7\n",
    "    \"6_Keywords.py\": []  # 6 is a standalone exercise\n",
    "}"
   ]
  },
  {
   "cell_type": "markdown",
   "metadata": {},
   "source": [
    "Question Generation"
   ]
  },
  {
   "cell_type": "code",
   "execution_count": 2,
   "metadata": {
    "ExecuteTime": {
     "end_time": "2024-06-19T10:46:20.395332Z",
     "start_time": "2024-06-19T10:46:20.376315Z"
    }
   },
   "outputs": [
    {
     "name": "stdout",
     "output_type": "stream",
     "text": [
      "Found 1 pdf file(s) and 0 assignment(s)\n"
     ]
    },
    {
     "data": {
      "application/vnd.jupyter.widget-view+json": {
       "model_id": "4741cee7cc8949e5b0e50ecadc6332f7",
       "version_major": 2,
       "version_minor": 0
      },
      "text/plain": [
       "Loading checkpoint shards:   0%|          | 0/7 [00:00<?, ?it/s]"
      ]
     },
     "metadata": {},
     "output_type": "display_data"
    },
    {
     "name": "stderr",
     "output_type": "stream",
     "text": [
      "Special tokens have been added in the vocabulary, make sure the associated word embeddings are fine-tuned or trained.\n"
     ]
    },
    {
     "name": "stdout",
     "output_type": "stream",
     "text": [
      "Loading files\n",
      "Found 1 pdf file(s) and 0 assignment(s)\n"
     ]
    },
    {
     "name": "stderr",
     "output_type": "stream",
     "text": [
      "Processing 01-Welcome and Introduction.pdf:  29%|██▊       | 12/42 [01:04<02:47,  5.58s/slides]"
     ]
    }
   ],
   "source": [
    "dataset = Dataset(\"Strategic Technology and Innovation Management\")\n",
    "dataset.create_dataset()"
   ]
  },
  {
   "cell_type": "code",
   "execution_count": null,
   "metadata": {},
   "outputs": [],
   "source": [
    "questions_generator = QuestionsGenerator(\n",
    "    base_url=os.getenv(\"OPEANI_BASE_URL\"),\n",
    "    api_key=os.getenv(\"OPENAI_API_KEY\"),\n",
    "    model=os.getenv(\"OPENAI_MODEL\"),\n",
    ")"
   ]
  },
  {
   "cell_type": "code",
   "execution_count": null,
   "metadata": {},
   "outputs": [],
   "source": [
    "questions_generator.generate_questions(num_questions=[5], mc_questions=[1], code_questions=[1], verbose=True)"
   ]
  },
  {
   "cell_type": "code",
   "execution_count": null,
   "metadata": {},
   "outputs": [],
   "source": [
    "evaluator = Evaluator(\n",
    "    \"./data/store/dataset.pkl\",\n",
    "    \"./data/store/questions.pkl\",\n",
    "    base_url=os.getenv(\"OPEANI_BASE_URL\"),\n",
    "    api_key=os.getenv(\"OPENAI_API_KEY\"),\n",
    "    model=os.getenv(\"OPENAI_MODEL\"),\n",
    ")"
   ]
  },
  {
   "cell_type": "code",
   "execution_count": null,
   "metadata": {},
   "outputs": [],
   "source": [
    "evaluator.evaluate_lectures()"
   ]
  },
  {
   "cell_type": "code",
   "execution_count": null,
   "metadata": {},
   "outputs": [],
   "source": [
    "import pickle\n",
    "\n",
    "if os.path.isfile(\"data/store/evaluations.pkl\") is False:\n",
    "    questions = evaluator.get_questions()\n",
    "    with open(\"data/store/evaluations.pkl\", \"wb\") as f:\n",
    "        pickle.dump(evaluator.get_questions(), f)\n",
    "else:       \n",
    "    questions = pickle.load(open(\"data/store/evaluations.pkl\", \"rb\"))"
   ]
  },
  {
   "cell_type": "code",
   "execution_count": null,
   "metadata": {},
   "outputs": [],
   "source": [
    "for lecture_index in questions:\n",
    "    for question_index in range(len(questions[lecture_index].questions)):\n",
    "        print(f\"Question: {questions[lecture_index].questions[question_index]}\")\n",
    "        print(f\"LLM Reasoning: {questions[lecture_index].evaluations[question_index].get('reasoning')}\")\n",
    "        print(f\"LLM Relevance Eval: {questions[lecture_index].evaluations[question_index].get('relevance')}\")\n",
    "        print(f\"LLM Difficulty Eval: {questions[lecture_index].evaluations[question_index].get('difficulty')}\")\n",
    "        print(f\"LLM Answer: {questions[lecture_index].evaluations[question_index].get('answer')}\")\n",
    "        print(f\"---Question Eval End---\\n\")"
   ]
  }
 ],
 "metadata": {
  "kernelspec": {
   "display_name": "venv",
   "language": "python",
   "name": "python3"
  },
  "language_info": {
   "codemirror_mode": {
    "name": "ipython",
    "version": 3
   },
   "file_extension": ".py",
   "mimetype": "text/x-python",
   "name": "python",
   "nbconvert_exporter": "python",
   "pygments_lexer": "ipython3",
   "version": "3.11.5"
  }
 },
 "nbformat": 4,
 "nbformat_minor": 2
}
